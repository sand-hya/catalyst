{
 "cells": [
  {
   "cell_type": "markdown",
   "metadata": {},
   "source": [
    "## Play Book for Kafka Evaluation (Red & Blue Teaming)\n"
   ]
  },
  {
   "cell_type": "markdown",
   "metadata": {},
   "source": [
    "**Intro:** This Playbook helps to setup/perform the Environment to Evaluate KAFKA\n",
    "\n",
    "**Author:** Samir Ranjan Parhi\n",
    "\n",
    "**License:** Same as Repository Licence\n",
    "\n",
    "**Usage :** Experimental\n"
   ]
  },
  {
   "cell_type": "markdown",
   "metadata": {},
   "source": [
    "**Revision:** V 1.0\n",
    "\n",
    "> > This version can be revised based on modification to the approach to evaluate the project time to time.\n"
   ]
  },
  {
   "cell_type": "markdown",
   "metadata": {},
   "source": [
    "**Workflow:**\n"
   ]
  },
  {
   "cell_type": "markdown",
   "metadata": {},
   "source": [
    "> > Prerequisite:\n"
   ]
  },
  {
   "cell_type": "markdown",
   "metadata": {},
   "source": [
    "### Step 1:\n",
    "\n",
    "**Clone the repository.**\n",
    "\n",
    "from your favorite terminal , Now RUN\n",
    "\n",
    "`git clone https://github.com/apache/kafka.git`\n"
   ]
  },
  {
   "cell_type": "markdown",
   "metadata": {},
   "source": [
    "### Step 2:\n",
    "\n",
    "**SetUp BES environment for kafka**\n",
    "\n",
    "Please refer the link for your OS. Link: Playbook will be available soon for you to do it 😊\n"
   ]
  },
  {
   "cell_type": "markdown",
   "metadata": {},
   "source": [
    "### Step 3:\n",
    "\n",
    "**Building kafka**\n",
    "\n",
    "1. Bulding kafka Maven build with Test\n",
    "\n",
    "`cd kafka`\n",
    "`mvn clean install`\n",
    "\n",
    "2. If you want to skip the tests, you can use\n",
    "\n",
    "`mvn clean install -DskipTests`\n",
    "\n",
    "3. Build a Specific Module\n",
    "\n",
    "`cd core`\n",
    "`mvn clean install`\n"
   ]
  },
  {
   "cell_type": "markdown",
   "metadata": {},
   "source": [
    "### Step 4:\n",
    "\n",
    "**Red-Teaming Activities:**\n",
    "\n",
    "Term Red-Teaming depicts, the ways to scan the given project to spot various threats. Below scanning are to be ran as a part of this activity.\n"
   ]
  },
  {
   "cell_type": "markdown",
   "metadata": {},
   "source": [
    "Install Snyk CLI:\n",
    "\n",
    "`npm install -g snyk`\n",
    "\n",
    "`snyk test`\n"
   ]
  },
  {
   "cell_type": "markdown",
   "metadata": {},
   "source": [
    "Running CodeQL\n",
    "\n",
    "`codeql create kafka`\n",
    "\n",
    "```codeql database create --language=<language> --source-root=<path-to-code> <database-name>\n",
    "codeql query run --database=<database-name> <path-to-query>\n",
    "```\n"
   ]
  },
  {
   "cell_type": "markdown",
   "metadata": {},
   "source": [
    "Running Sonar Qube\n",
    "\n",
    "```\n",
    "sonar-scanner \\\n",
    "  -Dsonar.projectKey=<Your_Project_Key> \\\n",
    "  -Dsonar.sources=<Your_Source_Code_Directory> \\\n",
    "  -Dsonar.host.url=<URL_to_Your_SonarQube_Server> \\\n",
    "  -Dsonar.login=<Your_SonarQube_Token>\n",
    "```\n",
    "\n",
    "Replace `<Your_Project_Key>` with a unique identifier for your project.\n",
    "\n",
    "Replace `<Your_Source_Code_Directory>` with the path to your source code.\n",
    "\n",
    "Replace `<URL_to_Your_SonarQube_Server>` with the URL to your SonarQube server.\n",
    "\n",
    "Replace `<Your_SonarQube_Token>` with a valid authentication token.\n"
   ]
  },
  {
   "cell_type": "markdown",
   "metadata": {},
   "source": [
    "#### Step 5\n",
    "\n",
    "**Identifying the Security Vulnerability**\n"
   ]
  }
 ],
 "metadata": {
  "language_info": {
   "name": "python"
  }
 },
 "nbformat": 4,
 "nbformat_minor": 2
}
